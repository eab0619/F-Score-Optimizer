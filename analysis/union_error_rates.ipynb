{
 "cells": [
  {
   "cell_type": "code",
   "execution_count": 1,
   "metadata": {},
   "outputs": [],
   "source": [
    "import er_evaluation as eval\n",
    "import pandas as pd\n",
    "import numpy as np\n",
    "\n",
    "MSR = pd.read_csv(\"../data-raw/MSR.csv\").drop(columns=[\"birth_year\"]).rename(columns={\"unified_birth_year\": \"birth_year\"})\n",
    "CEN = pd.read_csv(\"../data-raw/CEN.csv\")\n",
    "\n",
    "unique_id = [\"unique_id\"]\n",
    "fields = [\"name\", \"last_name\", \"first_name\", \"middle_name\", \"birth_year\", \"birth_place\"]\n",
    "joined = pd.concat([MSR[unique_id + fields], CEN[unique_id + fields]], axis=0)\n",
    "joined.reset_index(inplace=True)\n",
    "\n",
    "membership = joined[\"unique_id\"]\n",
    "\n",
    "# Adding unique IDs for family members (all distinct)\n",
    "membership = np.where(membership.isna(), range(len(membership)), membership)"
   ]
  },
  {
   "cell_type": "code",
   "execution_count": 2,
   "metadata": {},
   "outputs": [
    {
     "name": "stdout",
     "output_type": "stream",
     "text": [
      "Field: name\n",
      "Name variation rate:  0.10547897831134825\n",
      "Homonymy rate:  0.11435946840571118\n",
      "\n",
      "Field: last_name\n",
      "Name variation rate:  0.04500765772442073\n",
      "Homonymy rate:  0.895337632495738\n",
      "\n",
      "Field: first_name\n",
      "Name variation rate:  0.03355812459858703\n",
      "Homonymy rate:  0.9448760544940281\n",
      "\n",
      "Field: middle_name\n",
      "Name variation rate:  0.006385554073415345\n",
      "Homonymy rate:  0.9916018940409185\n",
      "\n",
      "Field: birth_year\n",
      "Name variation rate:  0.16019465441430758\n",
      "Homonymy rate:  0.9994169819512497\n",
      "\n",
      "Field: birth_place\n",
      "Name variation rate:  0.01683464255718591\n",
      "Homonymy rate:  0.9997709923664122\n",
      "\n"
     ]
    }
   ],
   "source": [
    "for field in fields:\n",
    "    print(\"Field: \" + field)\n",
    "    print(\"Name variation rate: \", eval.name_variation_rate(membership, joined[field]))\n",
    "    print(\"Homonymy rate: \", eval.homonymy_rate(membership, joined[field]))\n",
    "    print()"
   ]
  }
 ],
 "metadata": {
  "kernelspec": {
   "display_name": "er-eval-demo",
   "language": "python",
   "name": "python3"
  },
  "language_info": {
   "codemirror_mode": {
    "name": "ipython",
    "version": 3
   },
   "file_extension": ".py",
   "mimetype": "text/x-python",
   "name": "python",
   "nbconvert_exporter": "python",
   "pygments_lexer": "ipython3",
   "version": "3.11.4"
  }
 },
 "nbformat": 4,
 "nbformat_minor": 2
}
