{
 "cells": [
  {
   "cell_type": "code",
   "execution_count": 1,
   "metadata": {},
   "outputs": [
    {
     "name": "stderr",
     "output_type": "stream",
     "text": [
      "/tmp/ipykernel_25168/336439306.py:16: SettingWithCopyWarning: \n",
      "A value is trying to be set on a copy of a slice from a DataFrame\n",
      "\n",
      "See the caveats in the documentation: https://pandas.pydata.org/pandas-docs/stable/user_guide/indexing.html#returning-a-view-versus-a-copy\n",
      "  membership[membership.isna()] = range(sum(membership.isna()))\n"
     ]
    }
   ],
   "source": [
    "import er_evaluation as eval\n",
    "import pandas as pd\n",
    "import numpy as np\n",
    "\n",
    "MSR = pd.read_csv(\"../data-raw/MSR.csv\")\n",
    "CEN = pd.read_csv(\"../data-raw/CEN.csv\")\n",
    "\n",
    "cols = [\"unique_id\", \"name\"]\n",
    "joined = pd.concat([MSR[cols], CEN[cols]], axis=0)\n",
    "joined.reset_index(inplace=True)\n",
    "\n",
    "membership = joined[\"unique_id\"]\n",
    "names = joined[\"name\"]\n",
    "\n",
    "# Adding unique IDs for family members (all distinct)\n",
    "membership[membership.isna()] = range(sum(membership.isna()))"
   ]
  },
  {
   "cell_type": "markdown",
   "metadata": {},
   "source": [
    "Name variation rate"
   ]
  },
  {
   "cell_type": "code",
   "execution_count": 2,
   "metadata": {},
   "outputs": [
    {
     "data": {
      "text/plain": [
       "0.10547897831134825"
      ]
     },
     "execution_count": 2,
     "metadata": {},
     "output_type": "execute_result"
    }
   ],
   "source": [
    "eval.name_variation_rate(membership, names)"
   ]
  },
  {
   "cell_type": "markdown",
   "metadata": {},
   "source": [
    "Homonymy rate"
   ]
  },
  {
   "cell_type": "code",
   "execution_count": 3,
   "metadata": {},
   "outputs": [
    {
     "data": {
      "text/plain": [
       "0.11435946840571118"
      ]
     },
     "execution_count": 3,
     "metadata": {},
     "output_type": "execute_result"
    }
   ],
   "source": [
    "eval.homonymy_rate(joined[\"unique_id\"], joined[\"name\"])"
   ]
  }
 ],
 "metadata": {
  "kernelspec": {
   "display_name": "er-eval-demo",
   "language": "python",
   "name": "python3"
  },
  "language_info": {
   "codemirror_mode": {
    "name": "ipython",
    "version": 3
   },
   "file_extension": ".py",
   "mimetype": "text/x-python",
   "name": "python",
   "nbconvert_exporter": "python",
   "pygments_lexer": "ipython3",
   "version": "3.11.4"
  }
 },
 "nbformat": 4,
 "nbformat_minor": 2
}
